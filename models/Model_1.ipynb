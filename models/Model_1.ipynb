{
 "cells": [
  {
   "cell_type": "code",
   "execution_count": 1,
   "metadata": {},
   "outputs": [],
   "source": [
    "import tensorflow as tf\n",
    "import numpy as np\n",
    "import pandas as pd\n",
    "from tensorflow.python.keras.callbacks import TensorBoard\n",
    "from time import time\n",
    "import matplotlib.pyplot as plt\n",
    "from scipy import signal"
   ]
  },
  {
   "cell_type": "code",
   "execution_count": 2,
   "metadata": {},
   "outputs": [],
   "source": [
    "full_df = pd.read_csv(\"../resources/full_dataset.csv\")"
   ]
  },
  {
   "cell_type": "code",
   "execution_count": 3,
   "metadata": {},
   "outputs": [],
   "source": [
    "def generate_spectrogram(full_df, spec_shape, fs=200, window=('tukey', 0.25), nperseg=50, noverlap=None):\n",
    "    full_df = full_df.sample(frac=1).reset_index(drop=True)\n",
    "    labels = full_df[\"labels\"]\n",
    "    features = full_df.drop(labels=\"labels\", axis='columns')\n",
    "    features = features.values.reshape(-1, 400, 4)\n",
    "    arr = np.zeros((1000, spec_shape[0], spec_shape[1], 4))\n",
    "    first = True\n",
    "    for i in range(1000):\n",
    "        _, _, spec_1 = signal.spectrogram(features[i][:, 0], fs=fs, window=window,\n",
    "                                               nperseg=nperseg, noverlap=noverlap)\n",
    "        spec_1 = spec_1.reshape(spec_shape[0], spec_shape[1], 1)\n",
    "        _, _, spec_2 = signal.spectrogram(features[i][:, 1], fs=fs, window=window,\n",
    "                                               nperseg=nperseg, noverlap=noverlap)\n",
    "        spec_2 = spec_2.reshape(spec_shape[0], spec_shape[1], 1)\n",
    "        _, _, spec_3 = signal.spectrogram(features[i][:, 2], fs=fs, window=window,\n",
    "                                               nperseg=nperseg, noverlap=noverlap)\n",
    "        spec_3 = spec_3.reshape(spec_shape[0], spec_shape[1], 1)\n",
    "        _, _, spec_4 = signal.spectrogram(features[i][:, 3], fs=fs, window=window,\n",
    "                                               nperseg=nperseg, noverlap=noverlap)\n",
    "        spec_4 = spec_4.reshape(spec_shape[0], spec_shape[1], 1)\n",
    "        if first:\n",
    "            print(\"Spectrogram per channel shape {}\".format(spec_1.shape))\n",
    "            first = False\n",
    "        arr[i] = np.concatenate((spec_1, spec_2, spec_3, spec_4), axis=2)\n",
    "    print(\"arr shape {} --> {}\".format(arr.shape, arr.reshape(-1, spec_shape[0] * spec_shape[1] * 4).shape))\n",
    "    arr = arr.reshape(-1, spec_shape[0] * spec_shape[1] * 4)\n",
    "    columns = []\n",
    "    for i in range(spec_shape[0] * spec_shape[1] * 4):\n",
    "        columns.append(\"p{}\".format(i))\n",
    "    new_df = pd.DataFrame(data=arr, columns=columns)\n",
    "    new_df[\"labels\"] = labels\n",
    "    return (new_df)"
   ]
  },
  {
   "cell_type": "code",
   "execution_count": 4,
   "metadata": {},
   "outputs": [
    {
     "name": "stdout",
     "output_type": "stream",
     "text": [
      "Spectrogram per channel shape (26, 8, 1)\n",
      "arr shape (1000, 26, 8, 4) --> (1000, 832)\n"
     ]
    }
   ],
   "source": [
    "data = generate_spectrogram(full_df, spec_shape=(26, 8))"
   ]
  },
  {
   "cell_type": "code",
   "execution_count": 5,
   "metadata": {},
   "outputs": [],
   "source": [
    "def preprocess_data(data, spec_shape):\n",
    "    labels = data[\"labels\"].values\n",
    "    labels = np.where(labels == \"Lights-on\", 1, 0) # 1 for Lights-on and 0 for Turn-off\n",
    "    labels = tf.keras.utils.to_categorical(labels)\n",
    "    data = data.drop(labels=\"labels\", axis='columns')\n",
    "    data = data.values.reshape(-1, spec_shape[0], spec_shape[1], 4)\n",
    "    return (data, labels)"
   ]
  },
  {
   "cell_type": "code",
   "execution_count": 6,
   "metadata": {},
   "outputs": [],
   "source": [
    "test = data.head(200)\n",
    "training = data.tail(800)"
   ]
  },
  {
   "cell_type": "code",
   "execution_count": 7,
   "metadata": {},
   "outputs": [],
   "source": [
    "features, labels = preprocess_data(training, spec_shape=(26, 8))"
   ]
  },
  {
   "cell_type": "code",
   "execution_count": 13,
   "metadata": {},
   "outputs": [
    {
     "name": "stdout",
     "output_type": "stream",
     "text": [
      "Model: \"sequential_1\"\n",
      "_________________________________________________________________\n",
      "Layer (type)                 Output Shape              Param #   \n",
      "=================================================================\n",
      "conv2d_10 (Conv2D)           (None, 26, 8, 64)         2368      \n",
      "_________________________________________________________________\n",
      "conv2d_11 (Conv2D)           (None, 26, 8, 64)         36928     \n",
      "_________________________________________________________________\n",
      "max_pooling2d_3 (MaxPooling2 (None, 9, 3, 64)          0         \n",
      "_________________________________________________________________\n",
      "conv2d_12 (Conv2D)           (None, 9, 3, 128)         73856     \n",
      "_________________________________________________________________\n",
      "conv2d_13 (Conv2D)           (None, 9, 3, 128)         147584    \n",
      "_________________________________________________________________\n",
      "max_pooling2d_4 (MaxPooling2 (None, 3, 1, 128)         0         \n",
      "_________________________________________________________________\n",
      "conv2d_14 (Conv2D)           (None, 3, 1, 256)         295168    \n",
      "_________________________________________________________________\n",
      "conv2d_15 (Conv2D)           (None, 3, 1, 256)         590080    \n",
      "_________________________________________________________________\n",
      "conv2d_16 (Conv2D)           (None, 3, 1, 256)         590080    \n",
      "_________________________________________________________________\n",
      "max_pooling2d_5 (MaxPooling2 (None, 1, 1, 256)         0         \n",
      "_________________________________________________________________\n",
      "conv2d_17 (Conv2D)           (None, 1, 1, 512)         1180160   \n",
      "_________________________________________________________________\n",
      "conv2d_18 (Conv2D)           (None, 1, 1, 512)         2359808   \n",
      "_________________________________________________________________\n",
      "conv2d_19 (Conv2D)           (None, 1, 1, 512)         2359808   \n",
      "_________________________________________________________________\n",
      "flatten_1 (Flatten)          (None, 512)               0         \n",
      "_________________________________________________________________\n",
      "dense_3 (Dense)              (None, 1024)              525312    \n",
      "_________________________________________________________________\n",
      "dense_4 (Dense)              (None, 256)               262400    \n",
      "_________________________________________________________________\n",
      "dense_5 (Dense)              (None, 2)                 514       \n",
      "=================================================================\n",
      "Total params: 8,424,066\n",
      "Trainable params: 8,424,066\n",
      "Non-trainable params: 0\n",
      "_________________________________________________________________\n"
     ]
    }
   ],
   "source": [
    "tensorboard = TensorBoard(log_dir=\"logs/model_1_{}\".format(time()))\n",
    "\n",
    "model = tf.keras.Sequential()\n",
    "model.add(tf.keras.layers.Conv2D(filters=32, kernel_size=3, strides=(1, 1), padding=\"same\",\n",
    "                                 activation='relu', kernel_initializer='he_normal', input_shape=(26, 8, 4)))\n",
    "model.add(tf.keras.layers.Conv2D(filters=32, kernel_size=3, strides=(1, 1),\n",
    "                                 padding=\"same\", activation='relu', kernel_initializer='he_normal'))\n",
    "model.add(tf.keras.layers.MaxPool2D(pool_size=(3, 3), padding=\"same\"))\n",
    "model.add(tf.keras.layers.Conv2D(filters=64, kernel_size=3, strides=(1, 1),\n",
    "                                 padding=\"same\", activation='relu', kernel_initializer='he_normal'))\n",
    "model.add(tf.keras.layers.Conv2D(filters=64, kernel_size=3, strides=(1, 1),\n",
    "                                 padding=\"same\", activation='relu', kernel_initializer='he_normal'))\n",
    "model.add(tf.keras.layers.MaxPool2D(pool_size=(3, 3), padding=\"same\"))\n",
    "model.add(tf.keras.layers.Conv2D(filters=256, kernel_size=3, strides=(1, 1),\n",
    "                                 padding=\"same\", activation='relu', kernel_initializer='he_normal'))\n",
    "model.add(tf.keras.layers.Conv2D(filters=256, kernel_size=3, strides=(1, 1),\n",
    "                                 padding=\"same\", activation='relu', kernel_initializer='he_normal'))\n",
    "model.add(tf.keras.layers.Conv2D(filters=256, kernel_size=3, strides=(1, 1),\n",
    "                                 padding=\"same\", activation='relu', kernel_initializer='he_normal'))\n",
    "model.add(tf.keras.layers.MaxPool2D(pool_size=(3, 3), padding=\"same\"))\n",
    "model.add(tf.keras.layers.Conv2D(filters=512, kernel_size=3, strides=(1, 1),\n",
    "                                 padding=\"same\", activation='relu', kernel_initializer='he_normal'))\n",
    "model.add(tf.keras.layers.Conv2D(filters=512, kernel_size=3, strides=(1, 1),\n",
    "                                 padding=\"same\", activation='relu', kernel_initializer='he_normal'))\n",
    "model.add(tf.keras.layers.Conv2D(filters=512, kernel_size=3, strides=(1, 1),\n",
    "                                 padding=\"same\", activation='relu', kernel_initializer='he_normal'))\n",
    "model.add(tf.keras.layers.Flatten())\n",
    "model.add(tf.keras.layers.Dense(1024, activation='relu', kernel_initializer='he_normal'))\n",
    "model.add(tf.keras.layers.Dense(256, activation='relu', kernel_initializer='he_normal'))\n",
    "model.add(tf.keras.layers.Dense(2, activation='softmax'))\n",
    "\n",
    "optimizer = tf.keras.optimizers.Adam(learning_rate=0.001, beta_1=0.9, beta_2=0.999)\n",
    "model.compile(optimizer=optimizer,\n",
    "              loss='binary_crossentropy',\n",
    "              metrics=['accuracy'])\n",
    "model.summary()"
   ]
  },
  {
   "cell_type": "code",
   "execution_count": 14,
   "metadata": {},
   "outputs": [
    {
     "name": "stdout",
     "output_type": "stream",
     "text": [
      "Train on 720 samples, validate on 80 samples\n",
      "Epoch 1/10\n",
      "720/720 [==============================] - 23s 32ms/sample - loss: 0.6672 - accuracy: 0.6181 - val_loss: 0.1928 - val_accuracy: 0.9625\n",
      "Epoch 2/10\n",
      "720/720 [==============================] - 20s 27ms/sample - loss: 0.2864 - accuracy: 0.9069 - val_loss: 0.2076 - val_accuracy: 0.9500\n",
      "Epoch 3/10\n",
      "720/720 [==============================] - 20s 27ms/sample - loss: 0.2199 - accuracy: 0.9458 - val_loss: 0.0163 - val_accuracy: 1.0000\n",
      "Epoch 4/10\n",
      "720/720 [==============================] - 20s 27ms/sample - loss: 0.0944 - accuracy: 0.9736 - val_loss: 0.0747 - val_accuracy: 0.9750\n",
      "Epoch 5/10\n",
      "720/720 [==============================] - 21s 29ms/sample - loss: 0.1198 - accuracy: 0.9833 - val_loss: 0.2629 - val_accuracy: 0.9625\n",
      "Epoch 6/10\n",
      "720/720 [==============================] - 20s 28ms/sample - loss: 0.1518 - accuracy: 0.9653 - val_loss: 0.8061 - val_accuracy: 0.6125\n",
      "Epoch 7/10\n",
      "720/720 [==============================] - 20s 28ms/sample - loss: 0.1436 - accuracy: 0.9458 - val_loss: 0.2138 - val_accuracy: 0.9750\n",
      "Epoch 8/10\n",
      "720/720 [==============================] - 20s 27ms/sample - loss: 0.2139 - accuracy: 0.9333 - val_loss: 0.1769 - val_accuracy: 0.9750\n",
      "Epoch 9/10\n",
      "720/720 [==============================] - 20s 27ms/sample - loss: 0.6308 - accuracy: 0.9167 - val_loss: 0.4070 - val_accuracy: 0.8625\n",
      "Epoch 10/10\n",
      "720/720 [==============================] - 20s 28ms/sample - loss: 0.1536 - accuracy: 0.9653 - val_loss: 0.3429 - val_accuracy: 0.9750\n"
     ]
    },
    {
     "data": {
      "text/plain": [
       "<tensorflow.python.keras.callbacks.History at 0x7fbd9e35bd68>"
      ]
     },
     "execution_count": 14,
     "metadata": {},
     "output_type": "execute_result"
    }
   ],
   "source": [
    "model.fit(x=features,\n",
    "          y=labels,\n",
    "          batch_size=16,\n",
    "          epochs=10,\n",
    "          validation_split=0.1,\n",
    "          callbacks=[tensorboard])"
   ]
  },
  {
   "cell_type": "code",
   "execution_count": 15,
   "metadata": {},
   "outputs": [],
   "source": [
    "test_features, test_labels = preprocess_data(test, spec_shape=(26, 8))"
   ]
  },
  {
   "cell_type": "code",
   "execution_count": null,
   "metadata": {},
   "outputs": [],
   "source": [
    "metrics = model.evaluate()"
   ]
  }
 ],
 "metadata": {
  "kernelspec": {
   "display_name": "Python 3",
   "language": "python",
   "name": "python3"
  },
  "language_info": {
   "codemirror_mode": {
    "name": "ipython",
    "version": 3
   },
   "file_extension": ".py",
   "mimetype": "text/x-python",
   "name": "python",
   "nbconvert_exporter": "python",
   "pygments_lexer": "ipython3",
   "version": "3.7.2"
  }
 },
 "nbformat": 4,
 "nbformat_minor": 2
}
