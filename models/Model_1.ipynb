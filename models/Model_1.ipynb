{
 "cells": [
  {
   "cell_type": "code",
   "execution_count": 1,
   "metadata": {},
   "outputs": [],
   "source": [
    "import tensorflow as tf\n",
    "import numpy as np\n",
    "import pandas as pd\n",
    "from tensorflow.python.keras.callbacks import TensorBoard\n",
    "from time import time\n",
    "import matplotlib.pyplot as plt\n",
    "from scipy import signal"
   ]
  },
  {
   "cell_type": "code",
   "execution_count": 2,
   "metadata": {},
   "outputs": [],
   "source": [
    "full_df = pd.read_csv(\"../resources/full_dataset.csv\")"
   ]
  },
  {
   "cell_type": "code",
   "execution_count": 3,
   "metadata": {},
   "outputs": [],
   "source": [
    "def generate_spectrogram(full_df, spec_shape, fs=200, window=('tukey', 0.25), nperseg=50, noverlap=None):\n",
    "    full_df = full_df.sample(frac=1).reset_index(drop=True)\n",
    "    labels = full_df[\"labels\"]\n",
    "    features = full_df.drop(labels=\"labels\", axis='columns')\n",
    "    features = features.values.reshape(-1, 400, 4)\n",
    "    arr = np.zeros((1000, spec_shape[0], spec_shape[1], 4))\n",
    "    first = True\n",
    "    for i in range(1000):\n",
    "        _, _, spec_1 = signal.spectrogram(features[i][:, 0], fs=fs, window=window,\n",
    "                                               nperseg=nperseg, noverlap=noverlap)\n",
    "        spec_1 = spec_1.reshape(spec_shape[0], spec_shape[1], 1)\n",
    "        _, _, spec_2 = signal.spectrogram(features[i][:, 1], fs=fs, window=window,\n",
    "                                               nperseg=nperseg, noverlap=noverlap)\n",
    "        spec_2 = spec_2.reshape(spec_shape[0], spec_shape[1], 1)\n",
    "        _, _, spec_3 = signal.spectrogram(features[i][:, 2], fs=fs, window=window,\n",
    "                                               nperseg=nperseg, noverlap=noverlap)\n",
    "        spec_3 = spec_3.reshape(spec_shape[0], spec_shape[1], 1)\n",
    "        _, _, spec_4 = signal.spectrogram(features[i][:, 3], fs=fs, window=window,\n",
    "                                               nperseg=nperseg, noverlap=noverlap)\n",
    "        spec_4 = spec_4.reshape(spec_shape[0], spec_shape[1], 1)\n",
    "        if first:\n",
    "            print(\"Spectrogram per channel shape {}\".format(spec_1.shape))\n",
    "            first = False\n",
    "        arr[i] = np.concatenate((spec_1, spec_2, spec_3, spec_4), axis=2)\n",
    "    print(\"arr shape {} --> {}\".format(arr.shape, arr.reshape(-1, spec_shape[0] * spec_shape[1] * 4).shape))\n",
    "    arr = arr.reshape(-1, spec_shape[0] * spec_shape[1] * 4)\n",
    "    columns = []\n",
    "    for i in range(spec_shape[0] * spec_shape[1] * 4):\n",
    "        columns.append(\"p{}\".format(i))\n",
    "    new_df = pd.DataFrame(data=arr, columns=columns)\n",
    "    new_df[\"labels\"] = labels\n",
    "    return (new_df)"
   ]
  },
  {
   "cell_type": "code",
   "execution_count": 4,
   "metadata": {},
   "outputs": [
    {
     "name": "stdout",
     "output_type": "stream",
     "text": [
      "Spectrogram per channel shape (26, 8, 1)\n",
      "arr shape (1000, 26, 8, 4) --> (1000, 832)\n"
     ]
    }
   ],
   "source": [
    "data = generate_spectrogram(full_df, spec_shape=(26, 8))"
   ]
  },
  {
   "cell_type": "code",
   "execution_count": 5,
   "metadata": {},
   "outputs": [],
   "source": [
    "def preprocess_data(data, spec_shape):\n",
    "    labels = data[\"labels\"].values\n",
    "    labels = np.where(labels == \"Lights-on\", 1, 0) # 1 for Lights-on and 0 for Turn-off\n",
    "    labels = tf.keras.utils.to_categorical(labels)\n",
    "    data = data.drop(labels=\"labels\", axis='columns')\n",
    "    data = data.values.reshape(-1, spec_shape[0], spec_shape[1], 4)\n",
    "    return (data, labels)"
   ]
  },
  {
   "cell_type": "code",
   "execution_count": 6,
   "metadata": {},
   "outputs": [],
   "source": [
    "test = data.head(100)\n",
    "training = data.tail(900)"
   ]
  },
  {
   "cell_type": "code",
   "execution_count": 7,
   "metadata": {},
   "outputs": [],
   "source": [
    "features, labels = preprocess_data(training, spec_shape=(26, 8))"
   ]
  },
  {
   "cell_type": "code",
   "execution_count": 8,
   "metadata": {},
   "outputs": [
    {
     "name": "stdout",
     "output_type": "stream",
     "text": [
      "Model: \"sequential\"\n",
      "_________________________________________________________________\n",
      "Layer (type)                 Output Shape              Param #   \n",
      "=================================================================\n",
      "conv2d (Conv2D)              (None, 26, 8, 64)         1088      \n",
      "_________________________________________________________________\n",
      "conv2d_1 (Conv2D)            (None, 26, 8, 64)         16448     \n",
      "_________________________________________________________________\n",
      "batch_normalization_v2 (Batc (None, 26, 8, 64)         256       \n",
      "_________________________________________________________________\n",
      "max_pooling2d (MaxPooling2D) (None, 13, 4, 64)         0         \n",
      "_________________________________________________________________\n",
      "conv2d_2 (Conv2D)            (None, 13, 4, 128)        32896     \n",
      "_________________________________________________________________\n",
      "conv2d_3 (Conv2D)            (None, 13, 4, 128)        65664     \n",
      "_________________________________________________________________\n",
      "conv2d_4 (Conv2D)            (None, 13, 4, 128)        65664     \n",
      "_________________________________________________________________\n",
      "batch_normalization_v2_1 (Ba (None, 13, 4, 128)        512       \n",
      "_________________________________________________________________\n",
      "max_pooling2d_1 (MaxPooling2 (None, 7, 2, 128)         0         \n",
      "_________________________________________________________________\n",
      "flatten (Flatten)            (None, 1792)              0         \n",
      "_________________________________________________________________\n",
      "dense (Dense)                (None, 1024)              1836032   \n",
      "_________________________________________________________________\n",
      "dropout (Dropout)            (None, 1024)              0         \n",
      "_________________________________________________________________\n",
      "dense_1 (Dense)              (None, 512)               524800    \n",
      "_________________________________________________________________\n",
      "dropout_1 (Dropout)          (None, 512)               0         \n",
      "_________________________________________________________________\n",
      "dense_2 (Dense)              (None, 2)                 1026      \n",
      "=================================================================\n",
      "Total params: 2,544,386\n",
      "Trainable params: 2,544,002\n",
      "Non-trainable params: 384\n",
      "_________________________________________________________________\n"
     ]
    }
   ],
   "source": [
    "tensorboard = TensorBoard(log_dir=\"logs/model_1_{}\".format(time()))\n",
    "\n",
    "model = tf.keras.Sequential()\n",
    "model.add(tf.keras.layers.Conv2D(filters=64, kernel_size=2, strides=(1, 1), padding=\"same\",\n",
    "                                 activation='relu', kernel_initializer='he_normal', input_shape=(26, 8, 4)))\n",
    "model.add(tf.keras.layers.Conv2D(filters=64, kernel_size=2, strides=(1, 1),\n",
    "                                 padding=\"same\", activation='relu', kernel_initializer='he_normal'))\n",
    "model.add(tf.keras.layers.BatchNormalization())\n",
    "model.add(tf.keras.layers.MaxPool2D(pool_size=(2, 2), padding=\"same\"))\n",
    "model.add(tf.keras.layers.Conv2D(filters=128, kernel_size=2, strides=(1, 1),\n",
    "                                 padding=\"same\", activation='relu', kernel_initializer='he_normal'))\n",
    "model.add(tf.keras.layers.Conv2D(filters=128, kernel_size=2, strides=(1, 1),\n",
    "                                 padding=\"same\", activation='relu', kernel_initializer='he_normal'))\n",
    "model.add(tf.keras.layers.Conv2D(filters=128, kernel_size=2, strides=(1, 1),\n",
    "                                 padding=\"same\", activation='relu', kernel_initializer='he_normal'))\n",
    "model.add(tf.keras.layers.BatchNormalization())\n",
    "model.add(tf.keras.layers.MaxPool2D(pool_size=(2, 2), padding=\"same\"))\n",
    "model.add(tf.keras.layers.Flatten())\n",
    "model.add(tf.keras.layers.Dense(1024, activation='relu', kernel_initializer='he_normal'))\n",
    "model.add(tf.keras.layers.Dropout(0.5))\n",
    "model.add(tf.keras.layers.Dense(512, activation='relu', kernel_initializer='he_normal'))\n",
    "model.add(tf.keras.layers.Dropout(0.5))\n",
    "model.add(tf.keras.layers.Dense(2, activation='softmax'))\n",
    "\n",
    "#optimizer = tf.keras.optimizers.Adam(learning_rate=0.0001, beta_1=0.9, beta_2=0.999)\n",
    "optimizer = tf.keras.optimizers.SGD(learning_rate=0.001, momentum=0.88, nesterov=True)\n",
    "model.compile(optimizer=optimizer,\n",
    "              loss='binary_crossentropy',\n",
    "              metrics=['accuracy'])\n",
    "model.summary()"
   ]
  },
  {
   "cell_type": "code",
   "execution_count": 9,
   "metadata": {},
   "outputs": [
    {
     "name": "stdout",
     "output_type": "stream",
     "text": [
      "Train on 765 samples, validate on 135 samples\n",
      "Epoch 1/10\n",
      "765/765 [==============================] - 2s 3ms/sample - loss: 1.2557 - accuracy: 0.6693 - val_loss: 0.9674 - val_accuracy: 0.6074\n",
      "Epoch 2/10\n",
      "765/765 [==============================] - 2s 2ms/sample - loss: 0.4962 - accuracy: 0.8288 - val_loss: 0.5255 - val_accuracy: 0.7556\n",
      "Epoch 3/10\n",
      "765/765 [==============================] - 2s 2ms/sample - loss: 0.3088 - accuracy: 0.8915 - val_loss: 0.5347 - val_accuracy: 0.7704\n",
      "Epoch 4/10\n",
      "765/765 [==============================] - 2s 2ms/sample - loss: 0.1735 - accuracy: 0.9346 - val_loss: 0.3241 - val_accuracy: 0.8370\n",
      "Epoch 5/10\n",
      "765/765 [==============================] - 2s 2ms/sample - loss: 0.1001 - accuracy: 0.9647 - val_loss: 0.1214 - val_accuracy: 0.9481\n",
      "Epoch 6/10\n",
      "765/765 [==============================] - 2s 2ms/sample - loss: 0.0746 - accuracy: 0.9699 - val_loss: 0.0748 - val_accuracy: 0.9704\n",
      "Epoch 7/10\n",
      "765/765 [==============================] - 2s 2ms/sample - loss: 0.0680 - accuracy: 0.9778 - val_loss: 0.0605 - val_accuracy: 0.9778\n",
      "Epoch 8/10\n",
      "765/765 [==============================] - 2s 2ms/sample - loss: 0.0681 - accuracy: 0.9791 - val_loss: 0.0712 - val_accuracy: 0.9778\n",
      "Epoch 9/10\n",
      "765/765 [==============================] - 2s 2ms/sample - loss: 0.0638 - accuracy: 0.9765 - val_loss: 0.0560 - val_accuracy: 0.9852\n",
      "Epoch 10/10\n",
      "765/765 [==============================] - 2s 2ms/sample - loss: 0.0720 - accuracy: 0.9804 - val_loss: 0.2103 - val_accuracy: 0.9630\n"
     ]
    },
    {
     "data": {
      "text/plain": [
       "<tensorflow.python.keras.callbacks.History at 0x12702e358>"
      ]
     },
     "execution_count": 9,
     "metadata": {},
     "output_type": "execute_result"
    }
   ],
   "source": [
    "model.fit(x=features,\n",
    "          y=labels,\n",
    "          batch_size=24,\n",
    "          epochs=10,\n",
    "          validation_split=0.15,\n",
    "          callbacks=[tensorboard])"
   ]
  },
  {
   "cell_type": "code",
   "execution_count": 10,
   "metadata": {},
   "outputs": [
    {
     "ename": "NameError",
     "evalue": "name 'k' is not defined",
     "output_type": "error",
     "traceback": [
      "\u001b[0;31m---------------------------------------------------------------------------\u001b[0m",
      "\u001b[0;31mNameError\u001b[0m                                 Traceback (most recent call last)",
      "\u001b[0;32m<ipython-input-10-141b3ea3f03f>\u001b[0m in \u001b[0;36m<module>\u001b[0;34m\u001b[0m\n\u001b[0;32m----> 1\u001b[0;31m \u001b[0mk\u001b[0m\u001b[0;34m\u001b[0m\u001b[0;34m\u001b[0m\u001b[0m\n\u001b[0m",
      "\u001b[0;31mNameError\u001b[0m: name 'k' is not defined"
     ]
    }
   ],
   "source": [
    "k"
   ]
  },
  {
   "cell_type": "code",
   "execution_count": null,
   "metadata": {},
   "outputs": [],
   "source": [
    "test_features, test_labels = preprocess_data(test, spec_shape=(26, 8))"
   ]
  },
  {
   "cell_type": "code",
   "execution_count": null,
   "metadata": {},
   "outputs": [],
   "source": [
    "metrics = model.evaluate(x=test_features, y=test_labels)"
   ]
  },
  {
   "cell_type": "code",
   "execution_count": null,
   "metadata": {},
   "outputs": [],
   "source": [
    "metrics"
   ]
  },
  {
   "cell_type": "code",
   "execution_count": null,
   "metadata": {},
   "outputs": [],
   "source": []
  }
 ],
 "metadata": {
  "kernelspec": {
   "display_name": "Python 3",
   "language": "python",
   "name": "python3"
  },
  "language_info": {
   "codemirror_mode": {
    "name": "ipython",
    "version": 3
   },
   "file_extension": ".py",
   "mimetype": "text/x-python",
   "name": "python",
   "nbconvert_exporter": "python",
   "pygments_lexer": "ipython3",
   "version": "3.7.1"
  }
 },
 "nbformat": 4,
 "nbformat_minor": 2
}
