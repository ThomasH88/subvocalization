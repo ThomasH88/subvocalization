{
 "cells": [
  {
   "cell_type": "code",
   "execution_count": null,
   "metadata": {},
   "outputs": [],
   "source": [
    "import pandas as pd\n",
    "import numpy as np\n",
    "import os"
   ]
  },
  {
   "cell_type": "markdown",
   "metadata": {},
   "source": [
    "### Explanation of the Data"
   ]
  },
  {
   "cell_type": "markdown",
   "metadata": {},
   "source": [
    "###### Sample rate = 200 Hz"
   ]
  },
  {
   "cell_type": "markdown",
   "metadata": {},
   "source": [
    "###### Recording length / sample = 2 sec"
   ]
  },
  {
   "cell_type": "markdown",
   "metadata": {},
   "source": [
    "###### data points per sample = 400"
   ]
  },
  {
   "cell_type": "markdown",
   "metadata": {},
   "source": [
    "###### 4 different channels"
   ]
  },
  {
   "cell_type": "code",
   "execution_count": null,
   "metadata": {},
   "outputs": [],
   "source": [
    "def process_csv(path):\n",
    "    sample = pd.read_csv(path)\n",
    "    sample.drop(labels=\"Unnamed: 0\", inplace=True, axis='columns')\n",
    "    return (sample.values.flatten())"
   ]
  },
  {
   "cell_type": "code",
   "execution_count": null,
   "metadata": {},
   "outputs": [],
   "source": [
    "def join_data(on_path, off_path, file_names):\n",
    "    arr = np.zeros((1000, 1600))\n",
    "    for i in range(1000):\n",
    "        if (i >= 500):\n",
    "            sample = process_csv(os.path.join(off_path, file_names[i - 500]))\n",
    "        else:\n",
    "            sample = process_csv(os.path.join(on_path, file_names[i]))\n",
    "        arr[i] = sample\n",
    "    columns = []\n",
    "    for i in range(1600):\n",
    "        columns.append(\"p{}\".format(i))\n",
    "    full_df = pd.DataFrame(data=arr, columns=columns)\n",
    "    full_df[\"labels\"] = \"Lights-on\"\n",
    "    full_df.iloc[500:, 1600:] = \"Turn-off\"\n",
    "    full_df.to_csv(\"resources/full_dataset.csv\", index=False)\n",
    "    return (full_df)"
   ]
  },
  {
   "cell_type": "code",
   "execution_count": null,
   "metadata": {},
   "outputs": [],
   "source": [
    "on_path = \"resources/Lights-on/\"\n",
    "off_path = \"resources/Turn-off/\"\n",
    "file_names = next(os.walk(on_path))[2]\n",
    "file_names.sort()"
   ]
  },
  {
   "cell_type": "code",
   "execution_count": null,
   "metadata": {},
   "outputs": [],
   "source": [
    "full_df = join_data(on_path, off_path, file_names)"
   ]
  }
 ],
 "metadata": {
  "kernelspec": {
   "display_name": "Python 3",
   "language": "python",
   "name": "python3"
  },
  "language_info": {
   "codemirror_mode": {
    "name": "ipython",
    "version": 3
   },
   "file_extension": ".py",
   "mimetype": "text/x-python",
   "name": "python",
   "nbconvert_exporter": "python",
   "pygments_lexer": "ipython3",
   "version": "3.7.2"
  }
 },
 "nbformat": 4,
 "nbformat_minor": 2
}
